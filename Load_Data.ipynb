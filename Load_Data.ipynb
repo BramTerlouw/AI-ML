{
 "cells": [
  {
   "cell_type": "code",
   "execution_count": 11,
   "id": "fa469725-1b5a-45e3-9226-3aaa950e4acb",
   "metadata": {},
   "outputs": [],
   "source": [
    "from minio import Minio"
   ]
  },
  {
   "cell_type": "markdown",
   "id": "abc3cbf4-799f-47b0-839b-f9f1c7331985",
   "metadata": {},
   "source": [
    "--------------\n",
    "**Create Minio (S3) connection**"
   ]
  },
  {
   "cell_type": "code",
   "execution_count": 12,
   "id": "76669d76-1769-4aef-9eb7-88997a017555",
   "metadata": {},
   "outputs": [],
   "source": [
    "minio_client = Minio('localhost:9000',\n",
    "                     'dev',\n",
    "                     'password',\n",
    "                     secure=False)"
   ]
  },
  {
   "cell_type": "markdown",
   "id": "94ef71f2-8682-42dd-a512-b30cd9a750c7",
   "metadata": {},
   "source": [
    "--------------\n",
    "**Print buckets**"
   ]
  },
  {
   "cell_type": "code",
   "execution_count": 13,
   "id": "ac19a051-1a99-43c7-8180-570cfb56b4f0",
   "metadata": {},
   "outputs": [
    {
     "name": "stdout",
     "output_type": "stream",
     "text": [
      "ai-ml 2024-05-06 18:00:55.116000+00:00\n"
     ]
    }
   ],
   "source": [
    "buckets = minio_client.list_buckets()\n",
    "for bucket in buckets:\n",
    "    print(bucket.name, bucket.creation_date)"
   ]
  },
  {
   "cell_type": "markdown",
   "id": "ebc700ed-0635-4536-be55-b9364b822617",
   "metadata": {},
   "source": [
    "--------------\n",
    "**Download objects in ai-ml bucket**"
   ]
  },
  {
   "cell_type": "code",
   "execution_count": 18,
   "id": "4b779ca6-1f12-46a3-b1c0-acd3bfd77de0",
   "metadata": {},
   "outputs": [],
   "source": [
    "objects = minio_client.list_objects(\"ai-ml\", recursive=True)\n",
    "for obj in objects:\n",
    "    minio_client.fget_object(\"ai-ml\", obj.object_name, obj.object_name)"
   ]
  }
 ],
 "metadata": {
  "kernelspec": {
   "display_name": "Python 3 (ipykernel)",
   "language": "python",
   "name": "python3"
  },
  "language_info": {
   "codemirror_mode": {
    "name": "ipython",
    "version": 3
   },
   "file_extension": ".py",
   "mimetype": "text/x-python",
   "name": "python",
   "nbconvert_exporter": "python",
   "pygments_lexer": "ipython3",
   "version": "3.10.6"
  }
 },
 "nbformat": 4,
 "nbformat_minor": 5
}
