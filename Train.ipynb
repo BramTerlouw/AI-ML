{
 "cells": [
  {
   "cell_type": "code",
   "execution_count": null,
   "id": "f50e963d-709c-4816-bd77-896119d0f451",
   "metadata": {},
   "outputs": [],
   "source": [
    "from tensorflow.keras.models import Sequential\n",
    "from tensorflow.keras.layers import Conv2D, MaxPooling2D, Dense, Flatten, Dropout"
   ]
  },
  {
   "cell_type": "markdown",
   "id": "7da23b61-26b6-49b7-9a7e-c9ab4d5d9cec",
   "metadata": {},
   "source": [
    "--------------\n",
    "**Build convolution model**"
   ]
  },
  {
   "cell_type": "code",
   "execution_count": null,
   "id": "e1b9de6b-63ce-46fb-b301-510beb1313e3",
   "metadata": {},
   "outputs": [],
   "source": [
    "model = Sequential()"
   ]
  },
  {
   "cell_type": "code",
   "execution_count": null,
   "id": "7902e181-fb3c-4315-889c-e5a64c8a0a06",
   "metadata": {},
   "outputs": [],
   "source": [
    "model.add(Conv2D(16, (3,3), 1, activation='relu', input_shape=(256,256,3)))\n",
    "model.add(MaxPooling2D())\n",
    "model.add(Conv2D(32, (3,3), 1, activation='relu'))\n",
    "model.add(MaxPooling2D())\n",
    "model.add(Conv2D(16, (3,3), 1, activation='relu'))\n",
    "model.add(MaxPooling2D())\n",
    "model.add(Flatten())\n",
    "model.add(Dense(256, activation='relu'))\n",
    "model.add(Dense(1, activation='sigmoid'))"
   ]
  },
  {
   "cell_type": "markdown",
   "id": "7fdf9437-f33d-4812-a613-e8b9505b95b9",
   "metadata": {},
   "source": [
    "--------------\n",
    "**'Adam' optimizer, BinaryCrossEntropy loss function and metrics**"
   ]
  },
  {
   "cell_type": "code",
   "execution_count": null,
   "id": "826d0fb3-364b-4649-b27a-6452f489f333",
   "metadata": {},
   "outputs": [],
   "source": [
    "model.compile('adam', loss=tf.losses.BinaryCrossentropy(), metrics=['accuracy'])"
   ]
  },
  {
   "cell_type": "markdown",
   "id": "efae0546-3e70-4925-a27b-ecc68e84224d",
   "metadata": {},
   "source": [
    "--------------\n",
    "**Fit the model**"
   ]
  },
  {
   "cell_type": "code",
   "execution_count": null,
   "id": "80c62954-3488-46dd-90a3-1d34f006c94f",
   "metadata": {},
   "outputs": [],
   "source": [
    "hist = model.fit(train, epochs=20, validation_data=val)"
   ]
  },
  {
   "cell_type": "markdown",
   "id": "38fc2184-157c-4a63-9910-0a165c7981d0",
   "metadata": {},
   "source": [
    "--------------\n",
    "**Save Keras model**"
   ]
  },
  {
   "cell_type": "code",
   "execution_count": null,
   "id": "6b59dbc4-5ab9-4ffd-a8de-a8d25beec99c",
   "metadata": {},
   "outputs": [],
   "source": [
    "from tensorflow.keras.models import load_model\n",
    "import tf2onnx\n",
    "import os"
   ]
  },
  {
   "cell_type": "code",
   "execution_count": null,
   "id": "d02b1529-1266-4f93-aafa-3a14779b2de1",
   "metadata": {},
   "outputs": [],
   "source": [
    "model.save(os.path.join('models','imageclassifier.keras'))"
   ]
  }
 ],
 "metadata": {
  "kernelspec": {
   "display_name": "Python 3 (ipykernel)",
   "language": "python",
   "name": "python3"
  },
  "language_info": {
   "codemirror_mode": {
    "name": "ipython",
    "version": 3
   },
   "file_extension": ".py",
   "mimetype": "text/x-python",
   "name": "python",
   "nbconvert_exporter": "python",
   "pygments_lexer": "ipython3",
   "version": "3.10.6"
  }
 },
 "nbformat": 4,
 "nbformat_minor": 5
}
