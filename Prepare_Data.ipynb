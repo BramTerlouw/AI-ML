{
 "cells": [
  {
   "cell_type": "code",
   "execution_count": null,
   "id": "6024467b-3461-4e05-93f7-f2133652964f",
   "metadata": {},
   "outputs": [],
   "source": [
    "import numpy as np\n",
    "from matplotlib import pyplot as plt\n",
    "import tensorflow as tf"
   ]
  },
  {
   "cell_type": "markdown",
   "id": "b8d2fb04-c65d-447c-9d5c-a28ca4e64bee",
   "metadata": {},
   "source": [
    "--------------\n",
    "**Convert data to labeled dataset**"
   ]
  },
  {
   "cell_type": "code",
   "execution_count": null,
   "id": "13927933-c0f3-4ce0-8039-4fbc3f0b725b",
   "metadata": {},
   "outputs": [],
   "source": [
    "data = tf.keras.utils.image_dataset_from_directory('dataset')\n",
    "print(str(len(list(data))) + \" batches\")"
   ]
  },
  {
   "cell_type": "markdown",
   "id": "2d6d606b-30cf-41e7-9469-661bf13ec3bf",
   "metadata": {},
   "source": [
    "--------------\n",
    "**Scale data**"
   ]
  },
  {
   "cell_type": "code",
   "execution_count": null,
   "id": "a1b4360a-4b32-4bf8-8d35-0a57895adfeb",
   "metadata": {},
   "outputs": [],
   "source": [
    "data = data.map(lambda x,y: (x/255, y))"
   ]
  },
  {
   "cell_type": "markdown",
   "id": "def2f7e1-2766-40c3-bfcb-2f89b8cf3b91",
   "metadata": {},
   "source": [
    "--------------\n",
    "**Split data**"
   ]
  },
  {
   "cell_type": "code",
   "execution_count": null,
   "id": "e4c00dc6-4283-49af-b77f-1ba799b71498",
   "metadata": {},
   "outputs": [],
   "source": [
    "train_size = int(len(data)*.7)\n",
    "val_size = int(len(data)*.2)\n",
    "test_size = int(len(data)*.1)"
   ]
  },
  {
   "cell_type": "code",
   "execution_count": null,
   "id": "3a7e5ba2-b0d4-4fa6-9151-d864fb1cff3f",
   "metadata": {},
   "outputs": [],
   "source": [
    "train = data.take(train_size)\n",
    "val = data.skip(train_size).take(val_size)\n",
    "test = data.skip(train_size+val_size).take(test_size)"
   ]
  }
 ],
 "metadata": {
  "kernelspec": {
   "display_name": "Python 3 (ipykernel)",
   "language": "python",
   "name": "python3"
  },
  "language_info": {
   "codemirror_mode": {
    "name": "ipython",
    "version": 3
   },
   "file_extension": ".py",
   "mimetype": "text/x-python",
   "name": "python",
   "nbconvert_exporter": "python",
   "pygments_lexer": "ipython3",
   "version": "3.10.6"
  }
 },
 "nbformat": 4,
 "nbformat_minor": 5
}
