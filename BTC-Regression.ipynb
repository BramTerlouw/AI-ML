{
 "cells": [
  {
   "cell_type": "code",
   "execution_count": null,
   "id": "0714397d-53ae-4e8a-9414-539e26387418",
   "metadata": {},
   "outputs": [],
   "source": [
    "from minio import Minio\n",
    "import pandas as pd\n",
    "from sklearn.model_selection import train_test_split\n",
    "from sklearn.linear_model import LinearRegression\n",
    "from sklearn.metrics import mean_squared_error, mean_absolute_error, r2_score"
   ]
  },
  {
   "cell_type": "code",
   "execution_count": null,
   "id": "e9707cf8-6bc7-47ef-99c0-dc98292e9d46",
   "metadata": {},
   "outputs": [],
   "source": [
    "minio_client = Minio('localhost:9000',\n",
    "                     'dev',\n",
    "                     'password',\n",
    "                     secure=False)  # Set to True if using HTTPS"
   ]
  },
  {
   "cell_type": "code",
   "execution_count": null,
   "id": "47b5aded-5806-4bea-b54a-3f14b67b272d",
   "metadata": {},
   "outputs": [],
   "source": [
    "buckets = minio_client.list_buckets()\n",
    "for bucket in buckets:\n",
    "    print(bucket.name, bucket.creation_date)"
   ]
  },
  {
   "cell_type": "code",
   "execution_count": null,
   "id": "aa471bfc-7916-4a55-b99f-b34f28385e3e",
   "metadata": {},
   "outputs": [],
   "source": [
    "objects = minio_client.list_objects(\"dev\", recursive=True)\n",
    "for obj in objects:\n",
    "    print(obj.object_name)"
   ]
  },
  {
   "cell_type": "code",
   "execution_count": null,
   "id": "2eb8842f-629e-437f-9066-64127f6ff6a1",
   "metadata": {},
   "outputs": [],
   "source": [
    "minio_client.fget_object(\"dev\", \"BTC-USD.csv\", \"Dataset\")"
   ]
  },
  {
   "cell_type": "code",
   "execution_count": null,
   "id": "ba8a7fdb-ccd3-46f4-b5a3-d12536a8b1ad",
   "metadata": {},
   "outputs": [],
   "source": [
    "df = pd.read_csv(\"Dataset\")"
   ]
  },
  {
   "cell_type": "code",
   "execution_count": null,
   "id": "fc222cba-08c6-4bed-9d6c-dfd41cda3e54",
   "metadata": {},
   "outputs": [],
   "source": [
    "df.dropna\n",
    "df.shape"
   ]
  },
  {
   "cell_type": "code",
   "execution_count": null,
   "id": "6469b318-93e6-4f8c-9dbf-31f95ec1cd05",
   "metadata": {},
   "outputs": [],
   "source": [
    "df.head()"
   ]
  },
  {
   "cell_type": "code",
   "execution_count": null,
   "id": "6d0466de-4f12-4e78-ae41-928cf11adcfd",
   "metadata": {},
   "outputs": [],
   "source": [
    "df.info()"
   ]
  },
  {
   "cell_type": "code",
   "execution_count": null,
   "id": "1e24934b-baf2-4e5f-bf37-baf7fd9b98a2",
   "metadata": {},
   "outputs": [],
   "source": [
    "input_df = df[['Open', 'High', 'Low', 'Close']]\n",
    "input_df"
   ]
  },
  {
   "cell_type": "code",
   "execution_count": null,
   "id": "6f0ad0f2-4a2c-4fcc-a759-ab88c9e169a0",
   "metadata": {},
   "outputs": [],
   "source": [
    "x = input_df[['Open', 'High', 'Low']]\n",
    "y = input_df['Close']"
   ]
  },
  {
   "cell_type": "code",
   "execution_count": null,
   "id": "243608e2-eace-4bef-9f17-62c3a9ac766b",
   "metadata": {},
   "outputs": [],
   "source": [
    "x_train, x_test, y_train, y_test = train_test_split(x, y, test_size=0.2, random_state=0)\n",
    "print(\"X_train:\",x_train.shape)\n",
    "print(\"X_test:\",x_test.shape)\n",
    "print(\"Y_train:\",y_train.shape)\n",
    "print(\"Y_test:\",y_test.shape)"
   ]
  },
  {
   "cell_type": "code",
   "execution_count": null,
   "id": "ddd7553d-d368-4084-a6c8-ae40ee25a1fc",
   "metadata": {},
   "outputs": [],
   "source": [
    "model = LinearRegression()"
   ]
  },
  {
   "cell_type": "code",
   "execution_count": null,
   "id": "e2a3b372-4af5-4031-a481-9bacb7b2e0c9",
   "metadata": {},
   "outputs": [],
   "source": [
    "model.fit(x_train, y_train)"
   ]
  },
  {
   "cell_type": "code",
   "execution_count": null,
   "id": "b6256253-3411-4f63-961e-c8a58b339079",
   "metadata": {},
   "outputs": [],
   "source": [
    "y_pred = model.predict([[408.084991, 412.425995, 393.181000]])\n",
    "y_pred"
   ]
  }
 ],
 "metadata": {
  "kernelspec": {
   "display_name": "Python 3 (ipykernel)",
   "language": "python",
   "name": "python3"
  },
  "language_info": {
   "codemirror_mode": {
    "name": "ipython",
    "version": 3
   },
   "file_extension": ".py",
   "mimetype": "text/x-python",
   "name": "python",
   "nbconvert_exporter": "python",
   "pygments_lexer": "ipython3",
   "version": "3.10.6"
  }
 },
 "nbformat": 4,
 "nbformat_minor": 5
}
