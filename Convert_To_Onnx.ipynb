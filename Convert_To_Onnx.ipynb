{
 "cells": [
  {
   "cell_type": "code",
   "execution_count": null,
   "id": "5ac27169-cfab-412d-8925-c0b84a995cf6",
   "metadata": {},
   "outputs": [],
   "source": [
    "from tensorflow.keras.models import load_model\n",
    "import tf2onnx\n",
    "import onnx\n",
    "import os"
   ]
  },
  {
   "cell_type": "markdown",
   "id": "c5275851-8c66-4a8f-80f2-38d46637ce41",
   "metadata": {},
   "source": [
    "--------------\n",
    "**Load Keras model**"
   ]
  },
  {
   "cell_type": "code",
   "execution_count": null,
   "id": "720ab7ec-9c99-49da-bed9-6b332b2dde6b",
   "metadata": {},
   "outputs": [],
   "source": [
    "loaded_model = load_model('models/imageclassifier.keras')"
   ]
  },
  {
   "cell_type": "markdown",
   "id": "231dcf5c-546c-4bea-8af7-b978f9f823e3",
   "metadata": {},
   "source": [
    "--------------\n",
    "**Convert Keras model to Onnx**"
   ]
  },
  {
   "cell_type": "code",
   "execution_count": null,
   "id": "ae7847f0-a1b4-4705-af79-52ccd613904f",
   "metadata": {},
   "outputs": [],
   "source": [
    "input_signature = [tf.TensorSpec(loaded_model.inputs[0].shape, loaded_model.inputs[0].dtype, name='digit')]\n",
    "onnx_model, _ = tf2onnx.convert.from_keras(loaded_model, input_signature, opset=13)"
   ]
  },
  {
   "cell_type": "code",
   "execution_count": null,
   "id": "95a3bc36-1e41-4a67-9c76-3288bdf2c10e",
   "metadata": {},
   "outputs": [],
   "source": [
    "onnx.save(onnx_model, 'models/imageclassifier.onnx')"
   ]
  }
 ],
 "metadata": {
  "kernelspec": {
   "display_name": "Python 3 (ipykernel)",
   "language": "python",
   "name": "python3"
  },
  "language_info": {
   "codemirror_mode": {
    "name": "ipython",
    "version": 3
   },
   "file_extension": ".py",
   "mimetype": "text/x-python",
   "name": "python",
   "nbconvert_exporter": "python",
   "pygments_lexer": "ipython3",
   "version": "3.10.6"
  }
 },
 "nbformat": 4,
 "nbformat_minor": 5
}
