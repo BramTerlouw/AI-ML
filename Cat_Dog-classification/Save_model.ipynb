{
 "cells": [
  {
   "cell_type": "code",
   "execution_count": 1,
   "id": "285e70fb-51ee-4adc-b025-1de675eeb958",
   "metadata": {},
   "outputs": [],
   "source": [
    "from minio import Minio"
   ]
  },
  {
   "cell_type": "markdown",
   "id": "691d8ad7-53af-476c-ac9c-bb4a03fe6998",
   "metadata": {},
   "source": [
    "--------------\n",
    "**Create Minio (S3) connection**"
   ]
  },
  {
   "cell_type": "code",
   "execution_count": 2,
   "id": "21da0059-f300-4e01-9e23-87e433ca68f7",
   "metadata": {},
   "outputs": [],
   "source": [
    "minio_client = Minio('localhost:9000',\n",
    "                     'dev',\n",
    "                     'password',\n",
    "                     secure=False)"
   ]
  },
  {
   "cell_type": "markdown",
   "id": "35e63af0-8b02-468f-af78-bc19e46e7a87",
   "metadata": {},
   "source": [
    "--------------\n",
    "**Check if bucket exists**"
   ]
  },
  {
   "cell_type": "code",
   "execution_count": 4,
   "id": "62b50da3-5e72-4b65-9c38-3dd3ed1fb4e1",
   "metadata": {},
   "outputs": [
    {
     "name": "stdout",
     "output_type": "stream",
     "text": [
      "ai-ml exists\n"
     ]
    }
   ],
   "source": [
    "if minio_client.bucket_exists(\"ai-ml\"):\n",
    "    print(\"ai-ml exists\")\n",
    "else:\n",
    "    print(\"ai-ml does not exist\")"
   ]
  },
  {
   "cell_type": "markdown",
   "id": "0ba4086e-a735-478e-a37b-fafe788a956b",
   "metadata": {},
   "source": [
    "--------------\n",
    "**Upload model to S3 bucket**"
   ]
  },
  {
   "cell_type": "code",
   "execution_count": 6,
   "id": "9fdb1a1e-a09e-4de4-9077-042b98f29d71",
   "metadata": {},
   "outputs": [
    {
     "name": "stdout",
     "output_type": "stream",
     "text": [
      "created models/model.onnx object; etag: 3411638e651acd18fe52dcefa3dc3e19-3, version-id: None\n"
     ]
    }
   ],
   "source": [
    "filename=\"models/model.onnx\"\n",
    "result = minio_client.fput_object(\n",
    "    \"ai-ml\", filename, filename,\n",
    ")\n",
    "print(\n",
    "    \"created {0} object; etag: {1}, version-id: {2}\".format(\n",
    "        result.object_name, result.etag, result.version_id,\n",
    "    ),\n",
    ")"
   ]
  }
 ],
 "metadata": {
  "kernelspec": {
   "display_name": "Python 3 (ipykernel)",
   "language": "python",
   "name": "python3"
  },
  "language_info": {
   "codemirror_mode": {
    "name": "ipython",
    "version": 3
   },
   "file_extension": ".py",
   "mimetype": "text/x-python",
   "name": "python",
   "nbconvert_exporter": "python",
   "pygments_lexer": "ipython3",
   "version": "3.10.6"
  }
 },
 "nbformat": 4,
 "nbformat_minor": 5
}
