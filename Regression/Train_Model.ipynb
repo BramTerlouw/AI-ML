{
 "cells": [
  {
   "cell_type": "code",
   "execution_count": null,
   "id": "6eef28b5-fc5a-434a-be03-0b3bdbb0962c",
   "metadata": {},
   "outputs": [],
   "source": [
    "df = pd.read_csv(\"BTC-USD.csv\")"
   ]
  },
  {
   "cell_type": "code",
   "execution_count": null,
   "id": "1e373002-2c5d-4241-a96d-56489abb475e",
   "metadata": {},
   "outputs": [],
   "source": [
    "df.dropna\n",
    "df.shape"
   ]
  },
  {
   "cell_type": "code",
   "execution_count": null,
   "id": "08fdf341-0c84-4994-8229-0bf553571224",
   "metadata": {},
   "outputs": [],
   "source": [
    "input_df = df[['Open', 'High', 'Low', 'Close']]\n",
    "input_df"
   ]
  },
  {
   "cell_type": "code",
   "execution_count": null,
   "id": "bef7e23d-0c84-444f-806d-ff0cdd62849c",
   "metadata": {},
   "outputs": [],
   "source": [
    "x = input_df[['Open', 'High', 'Low']]\n",
    "y = input_df['Close']"
   ]
  },
  {
   "cell_type": "code",
   "execution_count": null,
   "id": "40b2c782-ec4e-4a0a-a39b-289b73638713",
   "metadata": {},
   "outputs": [],
   "source": [
    "x_train, x_test, y_train, y_test = train_test_split(x, y, test_size=0.2, random_state=0)"
   ]
  },
  {
   "cell_type": "code",
   "execution_count": null,
   "id": "49f6fcdc-de26-43f8-a72e-e2c97c4dcff2",
   "metadata": {},
   "outputs": [],
   "source": [
    "print(\"X_train:\",x_train.shape)\n",
    "print(\"X_test:\",x_test.shape)\n",
    "print(\"Y_train:\",y_train.shape)\n",
    "print(\"Y_test:\",y_test.shape)"
   ]
  },
  {
   "cell_type": "code",
   "execution_count": null,
   "id": "f72a194b-9c85-46c8-81d3-b58a2f5c77fa",
   "metadata": {},
   "outputs": [],
   "source": [
    "model = LinearRegression()"
   ]
  },
  {
   "cell_type": "code",
   "execution_count": null,
   "id": "01231159-41b8-4243-8efb-a0a6175b0942",
   "metadata": {},
   "outputs": [],
   "source": [
    "model.fit(x_train, y_train)"
   ]
  }
 ],
 "metadata": {
  "kernelspec": {
   "display_name": "Python 3.9",
   "language": "python",
   "name": "python3"
  },
  "language_info": {
   "codemirror_mode": {
    "name": "ipython",
    "version": 3
   },
   "file_extension": ".py",
   "mimetype": "text/x-python",
   "name": "python",
   "nbconvert_exporter": "python",
   "pygments_lexer": "ipython3",
   "version": "3.9.16"
  }
 },
 "nbformat": 4,
 "nbformat_minor": 5
}
