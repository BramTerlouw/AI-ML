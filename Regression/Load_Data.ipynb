{
 "cells": [
  {
   "cell_type": "code",
   "execution_count": null,
   "id": "f98d7155-175b-4525-95b4-b05ec0fef1ed",
   "metadata": {},
   "outputs": [],
   "source": [
    "import boto3\n",
    "from botocore.client import Config\n",
    "import os"
   ]
  },
  {
   "cell_type": "code",
   "execution_count": null,
   "id": "646cfe80-1085-4d85-b6c3-5051a099d320",
   "metadata": {},
   "outputs": [],
   "source": [
    "# MinIO connection details\n",
    "minio_endpoint = os.getenv('AWS_S3_ENDPOINT')\n",
    "access_key = os.getenv('AWS_ACCESS_KEY_ID')\n",
    "secret_key = os.getenv('AWS_SECRET_ACCESS_KEY')\n",
    "bucket_name = os.getenv('AWS_S3_BUCKET')\n",
    "region = os.getenv('AWS_DEFAULT_REGION')\n",
    "\n",
    "# Initialize the S3 client\n",
    "s3_client = boto3.client(\n",
    "    's3',\n",
    "    endpoint_url=minio_endpoint,\n",
    "    aws_access_key_id=access_key,\n",
    "    aws_secret_access_key=secret_key,\n",
    "    config=Config(signature_version='s3v4')\n",
    ")\n",
    "\n",
    "# List all buckets\n",
    "buckets = s3_client.list_buckets()\n",
    "print(\"Buckets:\")\n",
    "for bucket in buckets['Buckets']:\n",
    "    print(f\"  {bucket['Name']}\")\n",
    "\n",
    "# List objects in a specific bucket\n",
    "objects = s3_client.list_objects_v2(Bucket=bucket_name)\n",
    "print(f\"\\nObjects in bucket '{bucket_name}':\")\n",
    "if 'Contents' in objects:\n",
    "    for obj in objects['Contents']:\n",
    "        print(f\"  {obj['Key']}\")\n",
    "else:\n",
    "    print(\"  No objects found.\")"
   ]
  },
  {
   "cell_type": "code",
   "execution_count": null,
   "id": "9aa22846-45fd-4960-acb3-cc385c5ac6ce",
   "metadata": {},
   "outputs": [],
   "source": [
    "# Get working directory\n",
    "\n",
    "# Download items in bucket\n",
    "local_download_path = os.getcwd()\n",
    "if 'Contents' in objects:\n",
    "    for obj in objects['Contents']:\n",
    "        object_key = obj['Key']\n",
    "        local_file_path = os.path.join(local_download_path, object_key)\n",
    "\n",
    "        # Ensure local directory exists\n",
    "        os.makedirs(os.path.dirname(local_file_path), exist_ok=True)\n",
    "\n",
    "        # Download the file\n",
    "        s3_client.download_file(bucket_name, object_key, local_file_path)\n",
    "        print(f\"Downloaded {object_key} to {local_file_path}\")\n",
    "else:\n",
    "    print(\"No objects found in the bucket.\")"
   ]
  }
 ],
 "metadata": {
  "kernelspec": {
   "display_name": "Python 3.9",
   "language": "python",
   "name": "python3"
  },
  "language_info": {
   "codemirror_mode": {
    "name": "ipython",
    "version": 3
   },
   "file_extension": ".py",
   "mimetype": "text/x-python",
   "name": "python",
   "nbconvert_exporter": "python",
   "pygments_lexer": "ipython3",
   "version": "3.9.16"
  }
 },
 "nbformat": 4,
 "nbformat_minor": 5
}
