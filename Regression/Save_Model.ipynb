{
 "cells": [
  {
   "cell_type": "code",
   "execution_count": null,
   "id": "31557366-37c6-4819-80e0-4ffb341c9069",
   "metadata": {},
   "outputs": [],
   "source": [
    "# MinIO connection details\n",
    "minio_endpoint = os.getenv('AWS_S3_ENDPOINT')\n",
    "access_key = os.getenv('AWS_ACCESS_KEY_ID')\n",
    "secret_key = os.getenv('AWS_SECRET_ACCESS_KEY')\n",
    "bucket_name = os.getenv('AWS_S3_BUCKET')\n",
    "region = os.getenv('AWS_DEFAULT_REGION')\n",
    "\n",
    "# Initialize the S3 client\n",
    "s3_client = boto3.client(\n",
    "    's3',\n",
    "    endpoint_url=minio_endpoint,\n",
    "    aws_access_key_id=access_key,\n",
    "    aws_secret_access_key=secret_key,\n",
    "    config=Config(signature_version='s3v4')\n",
    ")"
   ]
  },
  {
   "cell_type": "code",
   "execution_count": null,
   "id": "54b6a919-5a19-4b46-8d6a-703c86f5c909",
   "metadata": {},
   "outputs": [],
   "source": [
    "from skl2onnx import convert_sklearn\n",
    "from skl2onnx.common.data_types import FloatTensorType\n",
    "\n",
    "initial_type = [('float_input', FloatTensorType([None, x_train.shape[1]]))]\n",
    "\n",
    "# Convert the model to ONNX\n",
    "onnx_model = convert_sklearn(model, initial_types=initial_type)\n",
    "\n",
    "# Save the ONNX model to a file\n",
    "with open(\"linear_regression.onnx\", \"wb\") as f:\n",
    "    f.write(onnx_model.SerializeToString())\n",
    "\n",
    "print(\"Model has been converted and saved as linear_regression.onnx\")"
   ]
  },
  {
   "cell_type": "code",
   "execution_count": null,
   "id": "488d2647-5876-48a9-8629-f6ae0073124a",
   "metadata": {},
   "outputs": [],
   "source": [
    "onnx_model_file = 'linear_regression.onnx'\n",
    "models_bucket = 'models'\n",
    "# Upload the ONNX model file to MinIO bucket\n",
    "with open(onnx_model_file, \"rb\") as f:\n",
    "    s3_client.upload_fileobj(f, models_bucket, 'test/regression/1/' + onnx_model_file)\n",
    "\n",
    "print(f\"ONNX model '{onnx_model_file}' uploaded to bucket '{bucket_name}' on MinIO.\")"
   ]
  }
 ],
 "metadata": {
  "kernelspec": {
   "display_name": "Python 3.9",
   "language": "python",
   "name": "python3"
  },
  "language_info": {
   "codemirror_mode": {
    "name": "ipython",
    "version": 3
   },
   "file_extension": ".py",
   "mimetype": "text/x-python",
   "name": "python",
   "nbconvert_exporter": "python",
   "pygments_lexer": "ipython3",
   "version": "3.9.16"
  }
 },
 "nbformat": 4,
 "nbformat_minor": 5
}
