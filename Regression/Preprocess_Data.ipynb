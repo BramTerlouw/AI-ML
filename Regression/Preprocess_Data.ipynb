{
 "cells": [
  {
   "cell_type": "code",
   "execution_count": null,
   "id": "83f12c0b-20e7-47a4-ae5e-a4da9958994b",
   "metadata": {},
   "outputs": [],
   "source": [
    "df = pd.read_csv(\"BTC-USD.csv\")"
   ]
  },
  {
   "cell_type": "code",
   "execution_count": null,
   "id": "588724b8-707d-4beb-afa6-b346cb591861",
   "metadata": {},
   "outputs": [],
   "source": [
    "df.dropna\n",
    "df.shape"
   ]
  }
 ],
 "metadata": {
  "kernelspec": {
   "display_name": "Python 3.9",
   "language": "python",
   "name": "python3"
  },
  "language_info": {
   "codemirror_mode": {
    "name": "ipython",
    "version": 3
   },
   "file_extension": ".py",
   "mimetype": "text/x-python",
   "name": "python",
   "nbconvert_exporter": "python",
   "pygments_lexer": "ipython3",
   "version": "3.9.16"
  }
 },
 "nbformat": 4,
 "nbformat_minor": 5
}
